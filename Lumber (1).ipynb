{
 "cells": [
  {
   "cell_type": "markdown",
   "id": "5371f04c",
   "metadata": {},
   "source": [
    "# Lumber Prices\n",
    "\n",
    "* **Data:** `lumber-prices.csv`\n",
    "* **Description:** Chicago lumber futures per 1000 board feet, in USD, as of some time in 2021. To keep things simple, we're going to say that this is the measurement over a month instead of just one date per month. Basically: each month, how much you'd pay if you bought 125 2x4 boards at the hardware store.\n",
    "* **Source:** https://tradingeconomics.com/commodity/lumber\n",
    "* **Columns of interest:**\n",
    "    * `Open` is the price at the start of the month\n",
    "    * `High` is the high price over the course of the month\n",
    "    * `Low` is the low number over the course of the month\n",
    "    * `Close` is the number at the end of the month"
   ]
  },
  {
   "cell_type": "markdown",
   "id": "ffcf050f",
   "metadata": {},
   "source": [
    "## Read in your data"
   ]
  },
  {
   "cell_type": "code",
   "execution_count": 1,
   "id": "505f1e94",
   "metadata": {},
   "outputs": [
    {
     "name": "stdout",
     "output_type": "stream",
     "text": [
      "Lumber.ipynb      lumber-prices.csv\r\n"
     ]
    }
   ],
   "source": [
    "!ls\n"
   ]
  },
  {
   "cell_type": "code",
   "execution_count": 2,
   "id": "97c588ae",
   "metadata": {},
   "outputs": [],
   "source": [
    "import pandas as pd"
   ]
  },
  {
   "cell_type": "code",
   "execution_count": 3,
   "id": "e78eb66a",
   "metadata": {},
   "outputs": [
    {
     "data": {
      "text/html": [
       "<div>\n",
       "<style scoped>\n",
       "    .dataframe tbody tr th:only-of-type {\n",
       "        vertical-align: middle;\n",
       "    }\n",
       "\n",
       "    .dataframe tbody tr th {\n",
       "        vertical-align: top;\n",
       "    }\n",
       "\n",
       "    .dataframe thead th {\n",
       "        text-align: right;\n",
       "    }\n",
       "</style>\n",
       "<table border=\"1\" class=\"dataframe\">\n",
       "  <thead>\n",
       "    <tr style=\"text-align: right;\">\n",
       "      <th></th>\n",
       "      <th>open</th>\n",
       "      <th>high</th>\n",
       "      <th>low</th>\n",
       "      <th>close</th>\n",
       "      <th>date</th>\n",
       "    </tr>\n",
       "  </thead>\n",
       "  <tbody>\n",
       "    <tr>\n",
       "      <th>0</th>\n",
       "      <td>$407.00</td>\n",
       "      <td>$424.70</td>\n",
       "      <td>$377.00</td>\n",
       "      <td>$424.70</td>\n",
       "      <td>1996-12-09T00:00:00</td>\n",
       "    </tr>\n",
       "    <tr>\n",
       "      <th>1</th>\n",
       "      <td>$426.00</td>\n",
       "      <td>$450.50</td>\n",
       "      <td>$395.00</td>\n",
       "      <td>$411.40</td>\n",
       "      <td>1997-01-02T00:00:00</td>\n",
       "    </tr>\n",
       "    <tr>\n",
       "      <th>2</th>\n",
       "      <td>$408.50</td>\n",
       "      <td>$421.50</td>\n",
       "      <td>$382.10</td>\n",
       "      <td>$383.50</td>\n",
       "      <td>1997-02-03T00:00:00</td>\n",
       "    </tr>\n",
       "    <tr>\n",
       "      <th>3</th>\n",
       "      <td>$386.00</td>\n",
       "      <td>$389.70</td>\n",
       "      <td>$355.00</td>\n",
       "      <td>$380.50</td>\n",
       "      <td>1997-03-03T00:00:00</td>\n",
       "    </tr>\n",
       "    <tr>\n",
       "      <th>4</th>\n",
       "      <td>$378.00</td>\n",
       "      <td>$417.50</td>\n",
       "      <td>$376.50</td>\n",
       "      <td>$403.10</td>\n",
       "      <td>1997-04-01T00:00:00</td>\n",
       "    </tr>\n",
       "    <tr>\n",
       "      <th>...</th>\n",
       "      <td>...</td>\n",
       "      <td>...</td>\n",
       "      <td>...</td>\n",
       "      <td>...</td>\n",
       "      <td>...</td>\n",
       "    </tr>\n",
       "    <tr>\n",
       "      <th>295</th>\n",
       "      <td>$716.00</td>\n",
       "      <td>$825.60</td>\n",
       "      <td>$490.00</td>\n",
       "      <td>$621.20</td>\n",
       "      <td>2021-07-01T00:00:00</td>\n",
       "    </tr>\n",
       "    <tr>\n",
       "      <th>296</th>\n",
       "      <td>$623.10</td>\n",
       "      <td>$650.00</td>\n",
       "      <td>$448.00</td>\n",
       "      <td>$482.80</td>\n",
       "      <td>2021-08-02T00:00:00</td>\n",
       "    </tr>\n",
       "    <tr>\n",
       "      <th>297</th>\n",
       "      <td>$482.10</td>\n",
       "      <td>$659.70</td>\n",
       "      <td>$454.40</td>\n",
       "      <td>$627.50</td>\n",
       "      <td>2021-09-01T00:00:00</td>\n",
       "    </tr>\n",
       "    <tr>\n",
       "      <th>298</th>\n",
       "      <td>$637.10</td>\n",
       "      <td>$789.60</td>\n",
       "      <td>$588.50</td>\n",
       "      <td>$591.60</td>\n",
       "      <td>2021-10-01T00:00:00</td>\n",
       "    </tr>\n",
       "    <tr>\n",
       "      <th>299</th>\n",
       "      <td>$595.20</td>\n",
       "      <td>$831.80</td>\n",
       "      <td>$530.10</td>\n",
       "      <td>$824.50</td>\n",
       "      <td>2021-11-01T00:00:00</td>\n",
       "    </tr>\n",
       "  </tbody>\n",
       "</table>\n",
       "<p>300 rows × 5 columns</p>\n",
       "</div>"
      ],
      "text/plain": [
       "        open     high      low    close                 date\n",
       "0    $407.00  $424.70  $377.00  $424.70  1996-12-09T00:00:00\n",
       "1    $426.00  $450.50  $395.00  $411.40  1997-01-02T00:00:00\n",
       "2    $408.50  $421.50  $382.10  $383.50  1997-02-03T00:00:00\n",
       "3    $386.00  $389.70  $355.00  $380.50  1997-03-03T00:00:00\n",
       "4    $378.00  $417.50  $376.50  $403.10  1997-04-01T00:00:00\n",
       "..       ...      ...      ...      ...                  ...\n",
       "295  $716.00  $825.60  $490.00  $621.20  2021-07-01T00:00:00\n",
       "296  $623.10  $650.00  $448.00  $482.80  2021-08-02T00:00:00\n",
       "297  $482.10  $659.70  $454.40  $627.50  2021-09-01T00:00:00\n",
       "298  $637.10  $789.60  $588.50  $591.60  2021-10-01T00:00:00\n",
       "299  $595.20  $831.80  $530.10  $824.50  2021-11-01T00:00:00\n",
       "\n",
       "[300 rows x 5 columns]"
      ]
     },
     "execution_count": 3,
     "metadata": {},
     "output_type": "execute_result"
    }
   ],
   "source": [
    "df = pd.read_csv(\"lumber-prices.csv\")\n",
    "df"
   ]
  },
  {
   "cell_type": "markdown",
   "id": "e0403107",
   "metadata": {},
   "source": [
    "## What is the earliest month in this dataset?\n",
    "\n",
    "We only have one reading per month, so you could also read this as \"what is the earliest date in the dataset\""
   ]
  },
  {
   "cell_type": "code",
   "execution_count": 4,
   "id": "9dfd66cc",
   "metadata": {},
   "outputs": [
    {
     "data": {
      "text/plain": [
       "'1996-12-09T00:00:00'"
      ]
     },
     "execution_count": 4,
     "metadata": {},
     "output_type": "execute_result"
    }
   ],
   "source": [
    "df.date.min()"
   ]
  },
  {
   "cell_type": "markdown",
   "id": "2cd14f08",
   "metadata": {},
   "source": [
    "## What is the most recent month in this dataset?\n",
    "\n",
    "We only have one reading per month, so you could also read this as \"what is the earliest date in the dataset\""
   ]
  },
  {
   "cell_type": "code",
   "execution_count": 5,
   "id": "80d23da2",
   "metadata": {},
   "outputs": [
    {
     "data": {
      "text/plain": [
       "open                 $931.00\n",
       "high                 $934.50\n",
       "low                  $842.90\n",
       "close                $995.60\n",
       "date     2021-11-01T00:00:00\n",
       "dtype: object"
      ]
     },
     "execution_count": 5,
     "metadata": {},
     "output_type": "execute_result"
    }
   ],
   "source": [
    "df.max()"
   ]
  },
  {
   "cell_type": "code",
   "execution_count": 6,
   "id": "a797ce4b",
   "metadata": {},
   "outputs": [],
   "source": [
    "#The most recent date is 2021-11-01T00:00:00"
   ]
  },
  {
   "cell_type": "markdown",
   "id": "0a55273d",
   "metadata": {},
   "source": [
    "## What 3 months had the highest high lumber price?"
   ]
  },
  {
   "cell_type": "code",
   "execution_count": 7,
   "id": "a64f2d66",
   "metadata": {},
   "outputs": [
    {
     "name": "stderr",
     "output_type": "stream",
     "text": [
      "/var/folders/n1/4svfr7bj3599pf0j1ss9dr5h0000gn/T/ipykernel_19741/2908838735.py:2: FutureWarning: The default value of regex will change from True to False in a future version. In addition, single character regular expressions will *not* be treated as literal strings when regex=True.\n",
      "  df.high = df.high.str.replace(\"$\",\" \").astype(float)\n"
     ]
    },
    {
     "data": {
      "text/html": [
       "<div>\n",
       "<style scoped>\n",
       "    .dataframe tbody tr th:only-of-type {\n",
       "        vertical-align: middle;\n",
       "    }\n",
       "\n",
       "    .dataframe tbody tr th {\n",
       "        vertical-align: top;\n",
       "    }\n",
       "\n",
       "    .dataframe thead th {\n",
       "        text-align: right;\n",
       "    }\n",
       "</style>\n",
       "<table border=\"1\" class=\"dataframe\">\n",
       "  <thead>\n",
       "    <tr style=\"text-align: right;\">\n",
       "      <th></th>\n",
       "      <th>open</th>\n",
       "      <th>high</th>\n",
       "      <th>low</th>\n",
       "      <th>close</th>\n",
       "      <th>date</th>\n",
       "    </tr>\n",
       "  </thead>\n",
       "  <tbody>\n",
       "    <tr>\n",
       "      <th>0</th>\n",
       "      <td>$407.00</td>\n",
       "      <td>424.7</td>\n",
       "      <td>$377.00</td>\n",
       "      <td>$424.70</td>\n",
       "      <td>1996-12-09T00:00:00</td>\n",
       "    </tr>\n",
       "    <tr>\n",
       "      <th>1</th>\n",
       "      <td>$426.00</td>\n",
       "      <td>450.5</td>\n",
       "      <td>$395.00</td>\n",
       "      <td>$411.40</td>\n",
       "      <td>1997-01-02T00:00:00</td>\n",
       "    </tr>\n",
       "    <tr>\n",
       "      <th>2</th>\n",
       "      <td>$408.50</td>\n",
       "      <td>421.5</td>\n",
       "      <td>$382.10</td>\n",
       "      <td>$383.50</td>\n",
       "      <td>1997-02-03T00:00:00</td>\n",
       "    </tr>\n",
       "    <tr>\n",
       "      <th>3</th>\n",
       "      <td>$386.00</td>\n",
       "      <td>389.7</td>\n",
       "      <td>$355.00</td>\n",
       "      <td>$380.50</td>\n",
       "      <td>1997-03-03T00:00:00</td>\n",
       "    </tr>\n",
       "    <tr>\n",
       "      <th>4</th>\n",
       "      <td>$378.00</td>\n",
       "      <td>417.5</td>\n",
       "      <td>$376.50</td>\n",
       "      <td>$403.10</td>\n",
       "      <td>1997-04-01T00:00:00</td>\n",
       "    </tr>\n",
       "  </tbody>\n",
       "</table>\n",
       "</div>"
      ],
      "text/plain": [
       "      open   high      low    close                 date\n",
       "0  $407.00  424.7  $377.00  $424.70  1996-12-09T00:00:00\n",
       "1  $426.00  450.5  $395.00  $411.40  1997-01-02T00:00:00\n",
       "2  $408.50  421.5  $382.10  $383.50  1997-02-03T00:00:00\n",
       "3  $386.00  389.7  $355.00  $380.50  1997-03-03T00:00:00\n",
       "4  $378.00  417.5  $376.50  $403.10  1997-04-01T00:00:00"
      ]
     },
     "execution_count": 7,
     "metadata": {},
     "output_type": "execute_result"
    }
   ],
   "source": [
    "df.high.sort_values().head()\n",
    "df.high = df.high.str.replace(\"$\",\" \").astype(float)\n",
    "df.head()"
   ]
  },
  {
   "cell_type": "code",
   "execution_count": 8,
   "id": "b82bf030",
   "metadata": {},
   "outputs": [
    {
     "name": "stdout",
     "output_type": "stream",
     "text": [
      "<class 'pandas.core.frame.DataFrame'>\n",
      "RangeIndex: 300 entries, 0 to 299\n",
      "Data columns (total 5 columns):\n",
      " #   Column  Non-Null Count  Dtype  \n",
      "---  ------  --------------  -----  \n",
      " 0   open    300 non-null    float64\n",
      " 1   high    300 non-null    float64\n",
      " 2   low     300 non-null    float64\n",
      " 3   close   300 non-null    float64\n",
      " 4   date    300 non-null    object \n",
      "dtypes: float64(4), object(1)\n",
      "memory usage: 11.8+ KB\n"
     ]
    },
    {
     "name": "stderr",
     "output_type": "stream",
     "text": [
      "/var/folders/n1/4svfr7bj3599pf0j1ss9dr5h0000gn/T/ipykernel_19741/2444977755.py:1: FutureWarning: The default value of regex will change from True to False in a future version. In addition, single character regular expressions will *not* be treated as literal strings when regex=True.\n",
      "  df.low = df.low.str.replace(\"$\",\" \").astype(float)\n",
      "/var/folders/n1/4svfr7bj3599pf0j1ss9dr5h0000gn/T/ipykernel_19741/2444977755.py:2: FutureWarning: The default value of regex will change from True to False in a future version. In addition, single character regular expressions will *not* be treated as literal strings when regex=True.\n",
      "  df.close = df.close.str.replace(\"$\",\" \").astype(float)\n",
      "/var/folders/n1/4svfr7bj3599pf0j1ss9dr5h0000gn/T/ipykernel_19741/2444977755.py:3: FutureWarning: The default value of regex will change from True to False in a future version. In addition, single character regular expressions will *not* be treated as literal strings when regex=True.\n",
      "  df.open = df.open.str.replace(\"$\",\" \").astype(float)\n"
     ]
    }
   ],
   "source": [
    "df.low = df.low.str.replace(\"$\",\" \").astype(float)\n",
    "df.close = df.close.str.replace(\"$\",\" \").astype(float)\n",
    "df.open = df.open.str.replace(\"$\",\" \").astype(float)\n",
    "df.info()"
   ]
  },
  {
   "cell_type": "code",
   "execution_count": 20,
   "id": "5fc603d6",
   "metadata": {},
   "outputs": [
    {
     "data": {
      "text/html": [
       "<div>\n",
       "<style scoped>\n",
       "    .dataframe tbody tr th:only-of-type {\n",
       "        vertical-align: middle;\n",
       "    }\n",
       "\n",
       "    .dataframe tbody tr th {\n",
       "        vertical-align: top;\n",
       "    }\n",
       "\n",
       "    .dataframe thead th {\n",
       "        text-align: right;\n",
       "    }\n",
       "</style>\n",
       "<table border=\"1\" class=\"dataframe\">\n",
       "  <thead>\n",
       "    <tr style=\"text-align: right;\">\n",
       "      <th></th>\n",
       "      <th>open</th>\n",
       "      <th>high</th>\n",
       "      <th>low</th>\n",
       "      <th>close</th>\n",
       "      <th>date</th>\n",
       "    </tr>\n",
       "  </thead>\n",
       "  <tbody>\n",
       "    <tr>\n",
       "      <th>293</th>\n",
       "      <td>1520.6</td>\n",
       "      <td>1711.2</td>\n",
       "      <td>1201.0</td>\n",
       "      <td>1309.5</td>\n",
       "      <td>2021-05-03T00:00:00</td>\n",
       "    </tr>\n",
       "    <tr>\n",
       "      <th>292</th>\n",
       "      <td>1012.6</td>\n",
       "      <td>1502.3</td>\n",
       "      <td>1006.0</td>\n",
       "      <td>1500.5</td>\n",
       "      <td>2021-04-01T00:00:00</td>\n",
       "    </tr>\n",
       "    <tr>\n",
       "      <th>294</th>\n",
       "      <td>1315.0</td>\n",
       "      <td>1380.0</td>\n",
       "      <td>705.0</td>\n",
       "      <td>716.0</td>\n",
       "      <td>2021-06-01T00:00:00</td>\n",
       "    </tr>\n",
       "    <tr>\n",
       "      <th>291</th>\n",
       "      <td>1000.0</td>\n",
       "      <td>1045.0</td>\n",
       "      <td>826.3</td>\n",
       "      <td>1009.1</td>\n",
       "      <td>2021-03-01T00:00:00</td>\n",
       "    </tr>\n",
       "    <tr>\n",
       "      <th>290</th>\n",
       "      <td>887.0</td>\n",
       "      <td>1030.4</td>\n",
       "      <td>842.9</td>\n",
       "      <td>995.6</td>\n",
       "      <td>2021-02-01T00:00:00</td>\n",
       "    </tr>\n",
       "  </tbody>\n",
       "</table>\n",
       "</div>"
      ],
      "text/plain": [
       "       open    high     low   close                 date\n",
       "293  1520.6  1711.2  1201.0  1309.5  2021-05-03T00:00:00\n",
       "292  1012.6  1502.3  1006.0  1500.5  2021-04-01T00:00:00\n",
       "294  1315.0  1380.0   705.0   716.0  2021-06-01T00:00:00\n",
       "291  1000.0  1045.0   826.3  1009.1  2021-03-01T00:00:00\n",
       "290   887.0  1030.4   842.9   995.6  2021-02-01T00:00:00"
      ]
     },
     "execution_count": 20,
     "metadata": {},
     "output_type": "execute_result"
    }
   ],
   "source": [
    "df.sort_values(by='high', ascending=False).head()"
   ]
  },
  {
   "cell_type": "code",
   "execution_count": 16,
   "id": "260b17c2",
   "metadata": {},
   "outputs": [
    {
     "ename": "TypeError",
     "evalue": "DataFrame.sort_values() missing 1 required positional argument: 'by'",
     "output_type": "error",
     "traceback": [
      "\u001b[0;31m---------------------------------------------------------------------------\u001b[0m",
      "\u001b[0;31mTypeError\u001b[0m                                 Traceback (most recent call last)",
      "Cell \u001b[0;32mIn [16], line 1\u001b[0m\n\u001b[0;32m----> 1\u001b[0m \u001b[43mdf\u001b[49m\u001b[38;5;241;43m.\u001b[39;49m\u001b[43msort_values\u001b[49m\u001b[43m(\u001b[49m\u001b[43mascending\u001b[49m\u001b[38;5;241;43m=\u001b[39;49m\u001b[38;5;28;43;01mFalse\u001b[39;49;00m\u001b[43m)\u001b[49m\u001b[38;5;241m.\u001b[39mhead()\n",
      "File \u001b[0;32m~/.pyenv/versions/3.11.0rc2/lib/python3.11/site-packages/pandas/util/_decorators.py:331\u001b[0m, in \u001b[0;36mdeprecate_nonkeyword_arguments.<locals>.decorate.<locals>.wrapper\u001b[0;34m(*args, **kwargs)\u001b[0m\n\u001b[1;32m    325\u001b[0m \u001b[38;5;28;01mif\u001b[39;00m \u001b[38;5;28mlen\u001b[39m(args) \u001b[38;5;241m>\u001b[39m num_allow_args:\n\u001b[1;32m    326\u001b[0m     warnings\u001b[38;5;241m.\u001b[39mwarn(\n\u001b[1;32m    327\u001b[0m         msg\u001b[38;5;241m.\u001b[39mformat(arguments\u001b[38;5;241m=\u001b[39m_format_argument_list(allow_args)),\n\u001b[1;32m    328\u001b[0m         \u001b[38;5;167;01mFutureWarning\u001b[39;00m,\n\u001b[1;32m    329\u001b[0m         stacklevel\u001b[38;5;241m=\u001b[39mfind_stack_level(),\n\u001b[1;32m    330\u001b[0m     )\n\u001b[0;32m--> 331\u001b[0m \u001b[38;5;28;01mreturn\u001b[39;00m \u001b[43mfunc\u001b[49m\u001b[43m(\u001b[49m\u001b[38;5;241;43m*\u001b[39;49m\u001b[43margs\u001b[49m\u001b[43m,\u001b[49m\u001b[43m \u001b[49m\u001b[38;5;241;43m*\u001b[39;49m\u001b[38;5;241;43m*\u001b[39;49m\u001b[43mkwargs\u001b[49m\u001b[43m)\u001b[49m\n",
      "\u001b[0;31mTypeError\u001b[0m: DataFrame.sort_values() missing 1 required positional argument: 'by'"
     ]
    }
   ],
   "source": [
    "df.sort_values(ascending=False).head()"
   ]
  },
  {
   "cell_type": "markdown",
   "id": "ecf489fb",
   "metadata": {},
   "source": [
    "## What 3 months had the lowest low lumber price?"
   ]
  },
  {
   "cell_type": "code",
   "execution_count": 25,
   "id": "956ee317",
   "metadata": {},
   "outputs": [
    {
     "data": {
      "text/html": [
       "<div>\n",
       "<style scoped>\n",
       "    .dataframe tbody tr th:only-of-type {\n",
       "        vertical-align: middle;\n",
       "    }\n",
       "\n",
       "    .dataframe tbody tr th {\n",
       "        vertical-align: top;\n",
       "    }\n",
       "\n",
       "    .dataframe thead th {\n",
       "        text-align: right;\n",
       "    }\n",
       "</style>\n",
       "<table border=\"1\" class=\"dataframe\">\n",
       "  <thead>\n",
       "    <tr style=\"text-align: right;\">\n",
       "      <th></th>\n",
       "      <th>open</th>\n",
       "      <th>high</th>\n",
       "      <th>low</th>\n",
       "      <th>close</th>\n",
       "      <th>date</th>\n",
       "    </tr>\n",
       "  </thead>\n",
       "  <tbody>\n",
       "    <tr>\n",
       "      <th>145</th>\n",
       "      <td>168.7</td>\n",
       "      <td>171.8</td>\n",
       "      <td>137.9</td>\n",
       "      <td>148.1</td>\n",
       "      <td>2009-01-02T00:00:00</td>\n",
       "    </tr>\n",
       "    <tr>\n",
       "      <th>146</th>\n",
       "      <td>158.1</td>\n",
       "      <td>175.9</td>\n",
       "      <td>138.0</td>\n",
       "      <td>147.0</td>\n",
       "      <td>2009-02-02T00:00:00</td>\n",
       "    </tr>\n",
       "    <tr>\n",
       "      <th>147</th>\n",
       "      <td>144.6</td>\n",
       "      <td>179.8</td>\n",
       "      <td>138.0</td>\n",
       "      <td>171.3</td>\n",
       "      <td>2009-03-02T00:00:00</td>\n",
       "    </tr>\n",
       "    <tr>\n",
       "      <th>149</th>\n",
       "      <td>160.0</td>\n",
       "      <td>201.2</td>\n",
       "      <td>150.7</td>\n",
       "      <td>191.7</td>\n",
       "      <td>2009-05-01T00:00:00</td>\n",
       "    </tr>\n",
       "    <tr>\n",
       "      <th>148</th>\n",
       "      <td>172.4</td>\n",
       "      <td>189.1</td>\n",
       "      <td>159.3</td>\n",
       "      <td>161.0</td>\n",
       "      <td>2009-04-01T00:00:00</td>\n",
       "    </tr>\n",
       "    <tr>\n",
       "      <th>...</th>\n",
       "      <td>...</td>\n",
       "      <td>...</td>\n",
       "      <td>...</td>\n",
       "      <td>...</td>\n",
       "      <td>...</td>\n",
       "    </tr>\n",
       "    <tr>\n",
       "      <th>294</th>\n",
       "      <td>1315.0</td>\n",
       "      <td>1380.0</td>\n",
       "      <td>705.0</td>\n",
       "      <td>716.0</td>\n",
       "      <td>2021-06-01T00:00:00</td>\n",
       "    </tr>\n",
       "    <tr>\n",
       "      <th>291</th>\n",
       "      <td>1000.0</td>\n",
       "      <td>1045.0</td>\n",
       "      <td>826.3</td>\n",
       "      <td>1009.1</td>\n",
       "      <td>2021-03-01T00:00:00</td>\n",
       "    </tr>\n",
       "    <tr>\n",
       "      <th>290</th>\n",
       "      <td>887.0</td>\n",
       "      <td>1030.4</td>\n",
       "      <td>842.9</td>\n",
       "      <td>995.6</td>\n",
       "      <td>2021-02-01T00:00:00</td>\n",
       "    </tr>\n",
       "    <tr>\n",
       "      <th>292</th>\n",
       "      <td>1012.6</td>\n",
       "      <td>1502.3</td>\n",
       "      <td>1006.0</td>\n",
       "      <td>1500.5</td>\n",
       "      <td>2021-04-01T00:00:00</td>\n",
       "    </tr>\n",
       "    <tr>\n",
       "      <th>293</th>\n",
       "      <td>1520.6</td>\n",
       "      <td>1711.2</td>\n",
       "      <td>1201.0</td>\n",
       "      <td>1309.5</td>\n",
       "      <td>2021-05-03T00:00:00</td>\n",
       "    </tr>\n",
       "  </tbody>\n",
       "</table>\n",
       "<p>300 rows × 5 columns</p>\n",
       "</div>"
      ],
      "text/plain": [
       "       open    high     low   close                 date\n",
       "145   168.7   171.8   137.9   148.1  2009-01-02T00:00:00\n",
       "146   158.1   175.9   138.0   147.0  2009-02-02T00:00:00\n",
       "147   144.6   179.8   138.0   171.3  2009-03-02T00:00:00\n",
       "149   160.0   201.2   150.7   191.7  2009-05-01T00:00:00\n",
       "148   172.4   189.1   159.3   161.0  2009-04-01T00:00:00\n",
       "..      ...     ...     ...     ...                  ...\n",
       "294  1315.0  1380.0   705.0   716.0  2021-06-01T00:00:00\n",
       "291  1000.0  1045.0   826.3  1009.1  2021-03-01T00:00:00\n",
       "290   887.0  1030.4   842.9   995.6  2021-02-01T00:00:00\n",
       "292  1012.6  1502.3  1006.0  1500.5  2021-04-01T00:00:00\n",
       "293  1520.6  1711.2  1201.0  1309.5  2021-05-03T00:00:00\n",
       "\n",
       "[300 rows x 5 columns]"
      ]
     },
     "execution_count": 25,
     "metadata": {},
     "output_type": "execute_result"
    }
   ],
   "source": [
    "df.sort_values(by='low')"
   ]
  },
  {
   "cell_type": "markdown",
   "id": "843b2f36",
   "metadata": {},
   "source": [
    "## What is the median \"high\" lumber price in our dataset?"
   ]
  },
  {
   "cell_type": "code",
   "execution_count": 27,
   "id": "d7d69d6b",
   "metadata": {},
   "outputs": [
    {
     "data": {
      "text/plain": [
       "329.65"
      ]
     },
     "execution_count": 27,
     "metadata": {},
     "output_type": "execute_result"
    }
   ],
   "source": [
    "df.high.median()"
   ]
  },
  {
   "cell_type": "markdown",
   "id": "8dcb415a",
   "metadata": {},
   "source": [
    "## What is the median \"low\" lumber price in our dataset?"
   ]
  },
  {
   "cell_type": "code",
   "execution_count": 28,
   "id": "f783e687",
   "metadata": {},
   "outputs": [
    {
     "data": {
      "text/plain": [
       "286.1"
      ]
     },
     "execution_count": 28,
     "metadata": {},
     "output_type": "execute_result"
    }
   ],
   "source": [
    "df.low.median()"
   ]
  },
  {
   "cell_type": "markdown",
   "id": "b2e6b0ea",
   "metadata": {},
   "source": [
    "## Plot the maximum \"high\" lumber price on an annual basis."
   ]
  },
  {
   "cell_type": "code",
   "execution_count": 35,
   "id": "78759a14",
   "metadata": {},
   "outputs": [
    {
     "data": {
      "text/html": [
       "<div>\n",
       "<style scoped>\n",
       "    .dataframe tbody tr th:only-of-type {\n",
       "        vertical-align: middle;\n",
       "    }\n",
       "\n",
       "    .dataframe tbody tr th {\n",
       "        vertical-align: top;\n",
       "    }\n",
       "\n",
       "    .dataframe thead th {\n",
       "        text-align: right;\n",
       "    }\n",
       "</style>\n",
       "<table border=\"1\" class=\"dataframe\">\n",
       "  <thead>\n",
       "    <tr style=\"text-align: right;\">\n",
       "      <th></th>\n",
       "      <th>open</th>\n",
       "      <th>high</th>\n",
       "      <th>low</th>\n",
       "      <th>close</th>\n",
       "      <th>date</th>\n",
       "    </tr>\n",
       "  </thead>\n",
       "  <tbody>\n",
       "    <tr>\n",
       "      <th>0</th>\n",
       "      <td>407.0</td>\n",
       "      <td>424.7</td>\n",
       "      <td>377.0</td>\n",
       "      <td>424.7</td>\n",
       "      <td>1996-12-09T00:00:00</td>\n",
       "    </tr>\n",
       "    <tr>\n",
       "      <th>1</th>\n",
       "      <td>426.0</td>\n",
       "      <td>450.5</td>\n",
       "      <td>395.0</td>\n",
       "      <td>411.4</td>\n",
       "      <td>1997-01-02T00:00:00</td>\n",
       "    </tr>\n",
       "    <tr>\n",
       "      <th>2</th>\n",
       "      <td>408.5</td>\n",
       "      <td>421.5</td>\n",
       "      <td>382.1</td>\n",
       "      <td>383.5</td>\n",
       "      <td>1997-02-03T00:00:00</td>\n",
       "    </tr>\n",
       "    <tr>\n",
       "      <th>3</th>\n",
       "      <td>386.0</td>\n",
       "      <td>389.7</td>\n",
       "      <td>355.0</td>\n",
       "      <td>380.5</td>\n",
       "      <td>1997-03-03T00:00:00</td>\n",
       "    </tr>\n",
       "    <tr>\n",
       "      <th>4</th>\n",
       "      <td>378.0</td>\n",
       "      <td>417.5</td>\n",
       "      <td>376.5</td>\n",
       "      <td>403.1</td>\n",
       "      <td>1997-04-01T00:00:00</td>\n",
       "    </tr>\n",
       "  </tbody>\n",
       "</table>\n",
       "</div>"
      ],
      "text/plain": [
       "    open   high    low  close                 date\n",
       "0  407.0  424.7  377.0  424.7  1996-12-09T00:00:00\n",
       "1  426.0  450.5  395.0  411.4  1997-01-02T00:00:00\n",
       "2  408.5  421.5  382.1  383.5  1997-02-03T00:00:00\n",
       "3  386.0  389.7  355.0  380.5  1997-03-03T00:00:00\n",
       "4  378.0  417.5  376.5  403.1  1997-04-01T00:00:00"
      ]
     },
     "execution_count": 35,
     "metadata": {},
     "output_type": "execute_result"
    }
   ],
   "source": [
    "df.head()"
   ]
  },
  {
   "cell_type": "code",
   "execution_count": 37,
   "id": "318508f6",
   "metadata": {},
   "outputs": [
    {
     "data": {
      "text/html": [
       "<div>\n",
       "<style scoped>\n",
       "    .dataframe tbody tr th:only-of-type {\n",
       "        vertical-align: middle;\n",
       "    }\n",
       "\n",
       "    .dataframe tbody tr th {\n",
       "        vertical-align: top;\n",
       "    }\n",
       "\n",
       "    .dataframe thead th {\n",
       "        text-align: right;\n",
       "    }\n",
       "</style>\n",
       "<table border=\"1\" class=\"dataframe\">\n",
       "  <thead>\n",
       "    <tr style=\"text-align: right;\">\n",
       "      <th></th>\n",
       "      <th>open</th>\n",
       "      <th>high</th>\n",
       "      <th>low</th>\n",
       "      <th>close</th>\n",
       "      <th>date</th>\n",
       "    </tr>\n",
       "  </thead>\n",
       "  <tbody>\n",
       "    <tr>\n",
       "      <th>0</th>\n",
       "      <td>407.0</td>\n",
       "      <td>424.7</td>\n",
       "      <td>377.0</td>\n",
       "      <td>424.7</td>\n",
       "      <td>1996-12-09</td>\n",
       "    </tr>\n",
       "    <tr>\n",
       "      <th>1</th>\n",
       "      <td>426.0</td>\n",
       "      <td>450.5</td>\n",
       "      <td>395.0</td>\n",
       "      <td>411.4</td>\n",
       "      <td>1997-01-02</td>\n",
       "    </tr>\n",
       "    <tr>\n",
       "      <th>2</th>\n",
       "      <td>408.5</td>\n",
       "      <td>421.5</td>\n",
       "      <td>382.1</td>\n",
       "      <td>383.5</td>\n",
       "      <td>1997-02-03</td>\n",
       "    </tr>\n",
       "    <tr>\n",
       "      <th>3</th>\n",
       "      <td>386.0</td>\n",
       "      <td>389.7</td>\n",
       "      <td>355.0</td>\n",
       "      <td>380.5</td>\n",
       "      <td>1997-03-03</td>\n",
       "    </tr>\n",
       "    <tr>\n",
       "      <th>4</th>\n",
       "      <td>378.0</td>\n",
       "      <td>417.5</td>\n",
       "      <td>376.5</td>\n",
       "      <td>403.1</td>\n",
       "      <td>1997-04-01</td>\n",
       "    </tr>\n",
       "  </tbody>\n",
       "</table>\n",
       "</div>"
      ],
      "text/plain": [
       "    open   high    low  close       date\n",
       "0  407.0  424.7  377.0  424.7 1996-12-09\n",
       "1  426.0  450.5  395.0  411.4 1997-01-02\n",
       "2  408.5  421.5  382.1  383.5 1997-02-03\n",
       "3  386.0  389.7  355.0  380.5 1997-03-03\n",
       "4  378.0  417.5  376.5  403.1 1997-04-01"
      ]
     },
     "execution_count": 37,
     "metadata": {},
     "output_type": "execute_result"
    }
   ],
   "source": [
    "df.date = pd.to_datetime(df.date)\n",
    "df.head()"
   ]
  },
  {
   "cell_type": "code",
   "execution_count": 52,
   "id": "874ef93d",
   "metadata": {},
   "outputs": [
    {
     "data": {
      "text/plain": [
       "date\n",
       "1996-12-31     424.7\n",
       "1997-12-31     450.5\n",
       "1998-12-31     345.4\n",
       "1999-12-31     440.8\n",
       "2000-12-31     360.5\n",
       "2001-12-31     376.0\n",
       "2002-12-31     329.8\n",
       "2003-12-31     370.4\n",
       "2004-12-31     464.0\n",
       "2005-12-31     418.5\n",
       "2006-12-31     376.4\n",
       "2007-12-31     312.3\n",
       "2008-12-31     270.3\n",
       "2009-12-31     255.2\n",
       "2010-12-31     327.5\n",
       "2011-12-31     326.9\n",
       "2012-12-31     392.8\n",
       "2013-12-31     404.4\n",
       "2014-12-31     373.0\n",
       "2015-12-31     333.5\n",
       "2016-12-31     345.7\n",
       "2017-12-31     500.0\n",
       "2018-12-31     659.0\n",
       "2019-12-31     444.9\n",
       "2020-12-31    1000.0\n",
       "2021-12-31    1711.2\n",
       "Freq: A-DEC, Name: high, dtype: float64"
      ]
     },
     "execution_count": 52,
     "metadata": {},
     "output_type": "execute_result"
    }
   ],
   "source": [
    "#df = pd.read_csv(\"apple.csv\", parse_dates =[\"date\"], index_col =\"date\")\n",
    "#df = pd.read_csv(\"apple.csv\", parse_dates =[\"date\"], index_col =\"date\")\n",
    "#weekly_resampled_data = df.open.resample('W').low.min()\n",
    "#Quarterly_resampled_data = df.resample('Q').[column1].[operator]().\n",
    "df.resample('A', on='date').high.max()\n"
   ]
  },
  {
   "cell_type": "code",
   "execution_count": 53,
   "id": "5ce75ca2",
   "metadata": {},
   "outputs": [
    {
     "data": {
      "text/plain": [
       "<AxesSubplot: xlabel='date'>"
      ]
     },
     "execution_count": 53,
     "metadata": {},
     "output_type": "execute_result"
    },
    {
     "data": {
      "image/png": "[encoded data removed]",
      "text/plain": [
       "<Figure size 640x480 with 1 Axes>"
      ]
     },
     "metadata": {},
     "output_type": "display_data"
    }
   ],
   "source": [
    "df.resample('A', on='date').high.max().plot()"
   ]
  },
  {
   "cell_type": "markdown",
   "id": "898b6df0",
   "metadata": {},
   "source": [
    "## Plot the lowest \"low\" lumber price on an annual basis."
   ]
  },
  {
   "cell_type": "code",
   "execution_count": 55,
   "id": "007ed835",
   "metadata": {},
   "outputs": [
    {
     "data": {
      "text/plain": [
       "<AxesSubplot: xlabel='date'>"
      ]
     },
     "execution_count": 55,
     "metadata": {},
     "output_type": "execute_result"
    },
    {
     "data": {
      "image/png": "[encoded data removed]",
      "text/plain": [
       "<Figure size 640x480 with 1 Axes>"
      ]
     },
     "metadata": {},
     "output_type": "display_data"
    }
   ],
   "source": [
    "df.resample('A', on='date').low.min().plot()"
   ]
  },
  {
   "cell_type": "code",
   "execution_count": null,
   "id": "5ac81dd7",
   "metadata": {},
   "outputs": [],
   "source": [
    "## Plot the median \"close\" lumber price on an quarterly basis."
   ]
  },
  {
   "cell_type": "code",
   "execution_count": 57,
   "id": "e23ff6ca",
   "metadata": {},
   "outputs": [
    {
     "data": {
      "text/plain": [
       "<AxesSubplot: xlabel='date'>"
      ]
     },
     "execution_count": 57,
     "metadata": {},
     "output_type": "execute_result"
    },
    {
     "data": {
      "image/png": "[encoded data removed]",
      "text/plain": [
       "<Figure size 640x480 with 1 Axes>"
      ]
     },
     "metadata": {},
     "output_type": "display_data"
    }
   ],
   "source": [
    "df.resample('Q', on='date').close.mean().plot()"
   ]
  },
  {
   "cell_type": "markdown",
   "id": "a507d8a6",
   "metadata": {},
   "source": [
    "## What month in our dataset had the largest swing between high and low?\n",
    "\n",
    "You'll want to create a new column for this one"
   ]
  },
  {
   "cell_type": "code",
   "execution_count": 61,
   "id": "4178d51c",
   "metadata": {},
   "outputs": [
    {
     "data": {
      "text/html": [
       "<div>\n",
       "<style scoped>\n",
       "    .dataframe tbody tr th:only-of-type {\n",
       "        vertical-align: middle;\n",
       "    }\n",
       "\n",
       "    .dataframe tbody tr th {\n",
       "        vertical-align: top;\n",
       "    }\n",
       "\n",
       "    .dataframe thead th {\n",
       "        text-align: right;\n",
       "    }\n",
       "</style>\n",
       "<table border=\"1\" class=\"dataframe\">\n",
       "  <thead>\n",
       "    <tr style=\"text-align: right;\">\n",
       "      <th></th>\n",
       "      <th>open</th>\n",
       "      <th>high</th>\n",
       "      <th>low</th>\n",
       "      <th>close</th>\n",
       "      <th>date</th>\n",
       "      <th>difference</th>\n",
       "    </tr>\n",
       "  </thead>\n",
       "  <tbody>\n",
       "    <tr>\n",
       "      <th>0</th>\n",
       "      <td>407.0</td>\n",
       "      <td>424.7</td>\n",
       "      <td>377.0</td>\n",
       "      <td>424.7</td>\n",
       "      <td>1996-12-09</td>\n",
       "      <td>47.7</td>\n",
       "    </tr>\n",
       "    <tr>\n",
       "      <th>1</th>\n",
       "      <td>426.0</td>\n",
       "      <td>450.5</td>\n",
       "      <td>395.0</td>\n",
       "      <td>411.4</td>\n",
       "      <td>1997-01-02</td>\n",
       "      <td>55.5</td>\n",
       "    </tr>\n",
       "    <tr>\n",
       "      <th>2</th>\n",
       "      <td>408.5</td>\n",
       "      <td>421.5</td>\n",
       "      <td>382.1</td>\n",
       "      <td>383.5</td>\n",
       "      <td>1997-02-03</td>\n",
       "      <td>39.4</td>\n",
       "    </tr>\n",
       "    <tr>\n",
       "      <th>3</th>\n",
       "      <td>386.0</td>\n",
       "      <td>389.7</td>\n",
       "      <td>355.0</td>\n",
       "      <td>380.5</td>\n",
       "      <td>1997-03-03</td>\n",
       "      <td>34.7</td>\n",
       "    </tr>\n",
       "    <tr>\n",
       "      <th>4</th>\n",
       "      <td>378.0</td>\n",
       "      <td>417.5</td>\n",
       "      <td>376.5</td>\n",
       "      <td>403.1</td>\n",
       "      <td>1997-04-01</td>\n",
       "      <td>41.0</td>\n",
       "    </tr>\n",
       "  </tbody>\n",
       "</table>\n",
       "</div>"
      ],
      "text/plain": [
       "    open   high    low  close       date  difference\n",
       "0  407.0  424.7  377.0  424.7 1996-12-09        47.7\n",
       "1  426.0  450.5  395.0  411.4 1997-01-02        55.5\n",
       "2  408.5  421.5  382.1  383.5 1997-02-03        39.4\n",
       "3  386.0  389.7  355.0  380.5 1997-03-03        34.7\n",
       "4  378.0  417.5  376.5  403.1 1997-04-01        41.0"
      ]
     },
     "execution_count": 61,
     "metadata": {},
     "output_type": "execute_result"
    }
   ],
   "source": [
    "df['difference'] = df.high - df.low\n",
    "df.head()"
   ]
  },
  {
   "cell_type": "code",
   "execution_count": null,
   "id": "42d3445c",
   "metadata": {},
   "outputs": [],
   "source": []
  },
  {
   "cell_type": "markdown",
   "id": "dd08822c",
   "metadata": {},
   "source": [
    "## In how many months did lumber prices rise?\n",
    "\n",
    "If the price was greater at the end of the month than the beginning of the month, we'll say the price rose."
   ]
  },
  {
   "cell_type": "code",
   "execution_count": null,
   "id": "e6549397",
   "metadata": {},
   "outputs": [],
   "source": []
  },
  {
   "cell_type": "code",
   "execution_count": null,
   "id": "696becea",
   "metadata": {},
   "outputs": [],
   "source": []
  },
  {
   "cell_type": "markdown",
   "id": "28594336",
   "metadata": {},
   "source": [
    "## How many months did lumber prices drop?\n",
    "\n",
    "If the price was lower at the end of the month than the beginning of the month, we'll say the price dropped."
   ]
  },
  {
   "cell_type": "code",
   "execution_count": null,
   "id": "d94f1cfc",
   "metadata": {},
   "outputs": [],
   "source": []
  },
  {
   "cell_type": "markdown",
   "id": "3c8b4471",
   "metadata": {},
   "source": [
    "## In 2020, how many months saw lumber prices rise vs lumber prices fall?"
   ]
  },
  {
   "cell_type": "code",
   "execution_count": null,
   "id": "22afd8cf",
   "metadata": {},
   "outputs": [],
   "source": []
  },
  {
   "cell_type": "markdown",
   "id": "3b98b6d5",
   "metadata": {},
   "source": [
    "## In 2000, how many months saw lumber prices rise vs lumber prices fall?"
   ]
  },
  {
   "cell_type": "code",
   "execution_count": null,
   "id": "534265d7",
   "metadata": {},
   "outputs": [],
   "source": []
  }
 ],
 "metadata": {
  "kernelspec": {
   "display_name": "Python 3 (ipykernel)",
   "language": "python",
   "name": "python3"
  },
  "language_info": {
   "codemirror_mode": {
    "name": "ipython",
    "version": 3
   },
   "file_extension": ".py",
   "mimetype": "text/x-python",
   "name": "python",
   "nbconvert_exporter": "python",
   "pygments_lexer": "ipython3",
   "version": "3.11.0rc2"
  }
 },
 "nbformat": 4,
 "nbformat_minor": 5
}
